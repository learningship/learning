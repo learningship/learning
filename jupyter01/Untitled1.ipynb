{
 "cells": [
  {
   "cell_type": "markdown",
   "metadata": {},
   "source": [
    "用1，2，3，4生成不重复的三位数"
   ]
  },
  {
   "cell_type": "code",
   "execution_count": 7,
   "metadata": {},
   "outputs": [
    {
     "name": "stdout",
     "output_type": "stream",
     "text": [
      "1 : 1 2 3\n",
      "2 : 1 2 4\n",
      "3 : 1 3 2\n",
      "4 : 1 3 4\n",
      "5 : 1 4 2\n",
      "6 : 1 4 3\n",
      "7 : 2 1 3\n",
      "8 : 2 1 4\n",
      "9 : 2 3 1\n",
      "10 : 2 3 4\n",
      "11 : 2 4 1\n",
      "12 : 2 4 3\n",
      "13 : 3 1 2\n",
      "14 : 3 1 4\n",
      "15 : 3 2 1\n",
      "16 : 3 2 4\n",
      "17 : 3 4 1\n",
      "18 : 3 4 2\n",
      "19 : 4 1 2\n",
      "20 : 4 1 3\n",
      "21 : 4 2 1\n",
      "22 : 4 2 3\n",
      "23 : 4 3 1\n",
      "24 : 4 3 2\n"
     ]
    }
   ],
   "source": [
    "a=0\n",
    "for i in range(1,5):\n",
    "    for j in range(1,5):\n",
    "        for k in range(1,5):\n",
    "            if (i!=j) and (j!=k) and (k!=i):\n",
    "                a+=1\n",
    "                print(a,\":\",i,j,k)\n"
   ]
  },
  {
   "cell_type": "markdown",
   "metadata": {},
   "source": [
    "简述：企业发放的奖金根据利润提成。利润(I)低于或等于10万元时，奖金可提10%；利润高于10万元，低于20万元时，低于10万元的部分按10%提成，高于10万元的部分，可提成7.5%；20万到40万之间时，高于20万元的部分，可提成5%；40万到60万之间时高于40万元的部分，可提成3%；60万到100万之间时，高于60万元的部分，可提成1.5%，高于100万元时，超过100万元的部分按1%提成.\n",
    "提问：从键盘输入当月利润I，求应发放奖金总数？"
   ]
  },
  {
   "cell_type": "code",
   "execution_count": 2,
   "metadata": {},
   "outputs": [
    {
     "name": "stdout",
     "output_type": "stream",
     "text": [
      "请输入奖金：\n",
      "10000000\n",
      "1000000 : 90000.0\n",
      "600000 : 6000.0\n",
      "400000 : 6000.0\n",
      "200000 : 10000.0\n",
      "100000 : 7500.0\n",
      "0 : 10000.0\n",
      "129500.0\n"
     ]
    }
   ],
   "source": [
    "s=int(input(\"请输入奖金：\\n\"))\n",
    "w=[1000000,600000,400000,200000,100000,0]\n",
    "r=[0.01,0.015,0.03,0.05,0.075,0.10]\n",
    "l=0\n",
    "for i in range(6):\n",
    "    if s>w[i]:\n",
    "        s-=w[i]\n",
    "        print(w[i],\":\",s*r[i])\n",
    "        l+=s*r[i]\n",
    "        s=w[i]\n",
    "print(l)\n"
   ]
  },
  {
   "cell_type": "markdown",
   "metadata": {},
   "source": [
    "简述：一个整数，它加上100和加上268后都是一个完全平方数\n",
    "提问：请问该数是多少？"
   ]
  },
  {
   "cell_type": "code",
   "execution_count": 5,
   "metadata": {},
   "outputs": [
    {
     "name": "stdout",
     "output_type": "stream",
     "text": [
      "21\n",
      "261\n",
      "1581\n"
     ]
    }
   ],
   "source": [
    "import math\n",
    "for i in range(10000):\n",
    "    x=int(math.sqrt(i+100))\n",
    "    y=int(math.sqrt(i+268))\n",
    "    if x*x==i+100 and y*y==i+268:\n",
    "        print(i)"
   ]
  },
  {
   "cell_type": "code",
   "execution_count": null,
   "metadata": {},
   "outputs": [],
   "source": []
  }
 ],
 "metadata": {
  "kernelspec": {
   "display_name": "Python 3",
   "language": "python",
   "name": "python3"
  },
  "language_info": {
   "codemirror_mode": {
    "name": "ipython",
    "version": 3
   },
   "file_extension": ".py",
   "mimetype": "text/x-python",
   "name": "python",
   "nbconvert_exporter": "python",
   "pygments_lexer": "ipython3",
   "version": "3.7.3"
  }
 },
 "nbformat": 4,
 "nbformat_minor": 2
}
