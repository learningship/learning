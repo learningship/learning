{
 "cells": [
  {
   "cell_type": "code",
   "execution_count": 2,
   "metadata": {},
   "outputs": [
    {
     "name": "stdout",
     "output_type": "stream",
     "text": [
      "请输入带有符号的温度值: 100C\n",
      "转换后的温度是212.00F\n"
     ]
    }
   ],
   "source": [
    "#e1.3TempConvert.py\n",
    "def tempConvert(ValueStr):\n",
    "    if ValueStr[-1] in ['F','f']:\n",
    "        C = (eval(ValueStr[0:-1]) - 32)/1.8\n",
    "        print(\"转换后的温度是{:.2f}C\".format(C))\n",
    "    elif ValueStr[-1] in ['C','c']:\n",
    "        F = 1.8*eval(ValueStr[0:-1]) + 32\n",
    "        print(\"转换后的温度是{:.2f}F\".format(F))\n",
    "    else:\n",
    "        print(\"输入格式错误\")\n",
    "TempStr = input(\"请输入带有符号的温度值: \")\n",
    "tempConvert(TempStr)\n"
   ]
  }
 ],
 "metadata": {
  "kernelspec": {
   "display_name": "Python 3",
   "language": "python",
   "name": "python3"
  },
  "language_info": {
   "codemirror_mode": {
    "name": "ipython",
    "version": 3
   },
   "file_extension": ".py",
   "mimetype": "text/x-python",
   "name": "python",
   "nbconvert_exporter": "python",
   "pygments_lexer": "ipython3",
   "version": "3.7.3"
  }
 },
 "nbformat": 4,
 "nbformat_minor": 2
}
